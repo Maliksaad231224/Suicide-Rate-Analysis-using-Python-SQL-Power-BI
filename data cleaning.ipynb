{
 "cells": [
  {
   "cell_type": "markdown",
   "metadata": {},
   "source": [
    "# **<center>SUICIDE RATE BY COUNTRY FROM 1985-2021</center>**"
   ]
  },
  {
   "cell_type": "markdown",
   "metadata": {},
   "source": [
    "### **ABOUT THE DATASET**\n",
    "\n",
    "This dataset cantains comprehensive information about the suicide cases reported from multiple countries around the globe from 1985-2021. It is available on <a href='https://www.kaggle.com/datasets/omkargowda/suicide-rates-overview-1985-to-2021'> Sucides Rate 1985-2021</a> .It contains information like \n",
    "\n",
    "<ul>\n",
    "<li>Country</li>\n",
    "<li>Year</li>\n",
    "<li>Sex</li>\n",
    "<li>Age</li>\n",
    "<li>Suicides No</li>\n",
    "<li>Population</li>\n",
    "<li>Suicides/100k population</li>\n",
    "<li>country-year</li>\n",
    "<li>HDI for year</li>\n",
    "<li>GDP_for_year ($) </li>\n",
    "<li>GDP_per_capita ($)</li>\n",
    "<li>Generation</li>\n",
    "\n",
    "\n",
    "</ul>\n"
   ]
  },
  {
   "cell_type": "markdown",
   "metadata": {},
   "source": [
    "#### **IMPORTING THE LIBRARIES**"
   ]
  },
  {
   "cell_type": "code",
   "execution_count": 1,
   "metadata": {},
   "outputs": [],
   "source": [
    "import numpy as np\n",
    "import pandas as pd\n",
    "import matplotlib.pyplot as plt\n",
    "import seaborn as sns\n"
   ]
  },
  {
   "cell_type": "markdown",
   "metadata": {},
   "source": [
    "#### **LOADING THE DATASET**"
   ]
  },
  {
   "cell_type": "code",
   "execution_count": 71,
   "metadata": {},
   "outputs": [],
   "source": [
    "df=pd.read_csv('suicides 1895-2020.csv')\n"
   ]
  },
  {
   "cell_type": "markdown",
   "metadata": {},
   "source": [
    "#### **EXPLORATORY DATA ANALYSIS**"
   ]
  },
  {
   "cell_type": "code",
   "execution_count": 72,
   "metadata": {},
   "outputs": [
    {
     "data": {
      "text/plain": [
       "Index(['country', 'year', 'sex', 'age', 'suicides_no', 'population',\n",
       "       'suicides/100k pop', 'country-year', 'HDI for year',\n",
       "       ' gdp_for_year ($) ', 'gdp_per_capita ($)', 'generation'],\n",
       "      dtype='object')"
      ]
     },
     "execution_count": 72,
     "metadata": {},
     "output_type": "execute_result"
    }
   ],
   "source": [
    "df.columns"
   ]
  },
  {
   "cell_type": "code",
   "execution_count": 73,
   "metadata": {},
   "outputs": [
    {
     "data": {
      "text/html": [
       "<div>\n",
       "<style scoped>\n",
       "    .dataframe tbody tr th:only-of-type {\n",
       "        vertical-align: middle;\n",
       "    }\n",
       "\n",
       "    .dataframe tbody tr th {\n",
       "        vertical-align: top;\n",
       "    }\n",
       "\n",
       "    .dataframe thead th {\n",
       "        text-align: right;\n",
       "    }\n",
       "</style>\n",
       "<table border=\"1\" class=\"dataframe\">\n",
       "  <thead>\n",
       "    <tr style=\"text-align: right;\">\n",
       "      <th></th>\n",
       "      <th>country</th>\n",
       "      <th>year</th>\n",
       "      <th>sex</th>\n",
       "      <th>age</th>\n",
       "      <th>suicides_no</th>\n",
       "      <th>population</th>\n",
       "      <th>suicides/100k pop</th>\n",
       "      <th>country-year</th>\n",
       "      <th>HDI for year</th>\n",
       "      <th>gdp_for_year ($)</th>\n",
       "      <th>gdp_per_capita ($)</th>\n",
       "      <th>generation</th>\n",
       "    </tr>\n",
       "  </thead>\n",
       "  <tbody>\n",
       "    <tr>\n",
       "      <th>31751</th>\n",
       "      <td>Ukraine</td>\n",
       "      <td>2017</td>\n",
       "      <td>female</td>\n",
       "      <td>75+ years</td>\n",
       "      <td>256.0</td>\n",
       "      <td>44831135</td>\n",
       "      <td>0.571032</td>\n",
       "      <td>Ukraine2017</td>\n",
       "      <td>0.785458</td>\n",
       "      <td>1.12E+11</td>\n",
       "      <td>2638.326055</td>\n",
       "      <td>G.I. Generation</td>\n",
       "    </tr>\n",
       "    <tr>\n",
       "      <th>31752</th>\n",
       "      <td>United Kingdom</td>\n",
       "      <td>2017</td>\n",
       "      <td>female</td>\n",
       "      <td>75+ years</td>\n",
       "      <td>104.0</td>\n",
       "      <td>66058859</td>\n",
       "      <td>0.157435</td>\n",
       "      <td>United Kingdom2017</td>\n",
       "      <td>0.914735</td>\n",
       "      <td>2.70E+12</td>\n",
       "      <td>40857.755580</td>\n",
       "      <td>G.I. Generation</td>\n",
       "    </tr>\n",
       "    <tr>\n",
       "      <th>31753</th>\n",
       "      <td>United States of America</td>\n",
       "      <td>2017</td>\n",
       "      <td>female</td>\n",
       "      <td>75+ years</td>\n",
       "      <td>501.0</td>\n",
       "      <td>325122128</td>\n",
       "      <td>0.154096</td>\n",
       "      <td>United States of America2017</td>\n",
       "      <td>0.918620</td>\n",
       "      <td>1.95E+13</td>\n",
       "      <td>60109.655730</td>\n",
       "      <td>G.I. Generation</td>\n",
       "    </tr>\n",
       "    <tr>\n",
       "      <th>31754</th>\n",
       "      <td>Uruguay</td>\n",
       "      <td>2017</td>\n",
       "      <td>female</td>\n",
       "      <td>75+ years</td>\n",
       "      <td>14.0</td>\n",
       "      <td>3422200</td>\n",
       "      <td>0.409094</td>\n",
       "      <td>Uruguay2017</td>\n",
       "      <td>0.816745</td>\n",
       "      <td>64233966861</td>\n",
       "      <td>18690.893840</td>\n",
       "      <td>G.I. Generation</td>\n",
       "    </tr>\n",
       "    <tr>\n",
       "      <th>31755</th>\n",
       "      <td>Uzbekistan</td>\n",
       "      <td>2017</td>\n",
       "      <td>female</td>\n",
       "      <td>75+ years</td>\n",
       "      <td>3.0</td>\n",
       "      <td>32388600</td>\n",
       "      <td>0.009263</td>\n",
       "      <td>Uzbekistan2017</td>\n",
       "      <td>0.691258</td>\n",
       "      <td>62081323299</td>\n",
       "      <td>1916.764642</td>\n",
       "      <td>G.I. Generation</td>\n",
       "    </tr>\n",
       "  </tbody>\n",
       "</table>\n",
       "</div>"
      ],
      "text/plain": [
       "                        country  year     sex        age  suicides_no  \\\n",
       "31751                   Ukraine  2017  female  75+ years        256.0   \n",
       "31752            United Kingdom  2017  female  75+ years        104.0   \n",
       "31753  United States of America  2017  female  75+ years        501.0   \n",
       "31754                   Uruguay  2017  female  75+ years         14.0   \n",
       "31755                Uzbekistan  2017  female  75+ years          3.0   \n",
       "\n",
       "       population  suicides/100k pop                  country-year  \\\n",
       "31751    44831135           0.571032                   Ukraine2017   \n",
       "31752    66058859           0.157435            United Kingdom2017   \n",
       "31753   325122128           0.154096  United States of America2017   \n",
       "31754     3422200           0.409094                   Uruguay2017   \n",
       "31755    32388600           0.009263                Uzbekistan2017   \n",
       "\n",
       "       HDI for year  gdp_for_year ($)   gdp_per_capita ($)       generation  \n",
       "31751      0.785458           1.12E+11         2638.326055  G.I. Generation  \n",
       "31752      0.914735           2.70E+12        40857.755580  G.I. Generation  \n",
       "31753      0.918620           1.95E+13        60109.655730  G.I. Generation  \n",
       "31754      0.816745        64233966861        18690.893840  G.I. Generation  \n",
       "31755      0.691258        62081323299         1916.764642  G.I. Generation  "
      ]
     },
     "execution_count": 73,
     "metadata": {},
     "output_type": "execute_result"
    }
   ],
   "source": [
    "df.tail()"
   ]
  },
  {
   "cell_type": "code",
   "execution_count": 74,
   "metadata": {},
   "outputs": [
    {
     "data": {
      "text/plain": [
       "array([1987, 1988, 1989, 1992, 1993, 1994, 1995, 1996, 1997, 1998, 1999,\n",
       "       2000, 2001, 2002, 2003, 2004, 2005, 2006, 2007, 2008, 2009, 2010,\n",
       "       1985, 1986, 1990, 1991, 2012, 2013, 2014, 2015, 2011, 2016, 2020,\n",
       "       2019, 2018, 2017], dtype=int64)"
      ]
     },
     "execution_count": 74,
     "metadata": {},
     "output_type": "execute_result"
    }
   ],
   "source": [
    "df['year'].unique()"
   ]
  },
  {
   "cell_type": "code",
   "execution_count": 75,
   "metadata": {},
   "outputs": [],
   "source": [
    "df.drop('country-year',axis=1,inplace=True)"
   ]
  },
  {
   "cell_type": "code",
   "execution_count": 77,
   "metadata": {},
   "outputs": [
    {
     "data": {
      "text/plain": [
       "(31756, 11)"
      ]
     },
     "execution_count": 77,
     "metadata": {},
     "output_type": "execute_result"
    }
   ],
   "source": [
    "df.shape"
   ]
  },
  {
   "cell_type": "code",
   "execution_count": 78,
   "metadata": {},
   "outputs": [
    {
     "data": {
      "text/plain": [
       "country                   0\n",
       "year                      0\n",
       "sex                       0\n",
       "age                       0\n",
       "suicides_no            1200\n",
       "population                0\n",
       "suicides/100k pop         0\n",
       "HDI for year          19456\n",
       " gdp_for_year ($)         0\n",
       "gdp_per_capita ($)        0\n",
       "generation                0\n",
       "dtype: int64"
      ]
     },
     "execution_count": 78,
     "metadata": {},
     "output_type": "execute_result"
    }
   ],
   "source": [
    "df.isnull().sum()"
   ]
  },
  {
   "cell_type": "code",
   "execution_count": 79,
   "metadata": {},
   "outputs": [
    {
     "data": {
      "text/plain": [
       "0"
      ]
     },
     "execution_count": 79,
     "metadata": {},
     "output_type": "execute_result"
    }
   ],
   "source": [
    "df.duplicated().sum()"
   ]
  },
  {
   "cell_type": "markdown",
   "metadata": {},
   "source": [
    "#### **VISUALIZING THE MISSING COLUMN**"
   ]
  },
  {
   "cell_type": "code",
   "execution_count": 80,
   "metadata": {},
   "outputs": [
    {
     "data": {
      "image/png": "[encoded data removed]",
      "text/plain": [
       "<Figure size 900x400 with 2 Axes>"
      ]
     },
     "metadata": {},
     "output_type": "display_data"
    }
   ],
   "source": [
    "fig,axs=plt.subplots(1,2,figsize=(9,4))\n",
    "sns.countplot(x=df['suicides_no'].isnull(),ax=axs[0])\n",
    "\n",
    "\n",
    "\n",
    "sns.boxplot(x='HDI for year',data=df,ax=axs[1])\n",
    "\n",
    "plt.show()"
   ]
  },
  {
   "cell_type": "code",
   "execution_count": 81,
   "metadata": {},
   "outputs": [
    {
     "data": {
      "text/plain": [
       "country                object\n",
       "year                    int64\n",
       "sex                    object\n",
       "age                    object\n",
       "suicides_no           float64\n",
       "population              int64\n",
       "suicides/100k pop     float64\n",
       "HDI for year          float64\n",
       " gdp_for_year ($)      object\n",
       "gdp_per_capita ($)    float64\n",
       "generation             object\n",
       "dtype: object"
      ]
     },
     "execution_count": 81,
     "metadata": {},
     "output_type": "execute_result"
    }
   ],
   "source": [
    "df.dtypes"
   ]
  },
  {
   "cell_type": "code",
   "execution_count": 82,
   "metadata": {},
   "outputs": [
    {
     "data": {
      "text/plain": [
       "19456"
      ]
     },
     "execution_count": 82,
     "metadata": {},
     "output_type": "execute_result"
    }
   ],
   "source": [
    "df['HDI for year'].isna().sum()"
   ]
  },
  {
   "cell_type": "markdown",
   "metadata": {},
   "source": [
    "#### **DATA IMPUTATION**"
   ]
  },
  {
   "cell_type": "code",
   "execution_count": 83,
   "metadata": {},
   "outputs": [
    {
     "name": "stdout",
     "output_type": "stream",
     "text": [
      "0.800456703\n",
      "237.13624165466683\n"
     ]
    }
   ],
   "source": [
    "imputed_value = df['HDI for year'].median()\n",
    "print(imputed_value)\n",
    "\n",
    "imputed_suicides = df['suicides_no'].mean()\n",
    "print(imputed_suicides)\n"
   ]
  },
  {
   "cell_type": "code",
   "execution_count": 84,
   "metadata": {},
   "outputs": [
    {
     "name": "stderr",
     "output_type": "stream",
     "text": [
      "C:\\Users\\awans\\AppData\\Local\\Temp\\ipykernel_11152\\3902340664.py:1: FutureWarning: A value is trying to be set on a copy of a DataFrame or Series through chained assignment using an inplace method.\n",
      "The behavior will change in pandas 3.0. This inplace method will never work because the intermediate object on which we are setting values always behaves as a copy.\n",
      "\n",
      "For example, when doing 'df[col].method(value, inplace=True)', try using 'df.method({col: value}, inplace=True)' or df[col] = df[col].method(value) instead, to perform the operation inplace on the original object.\n",
      "\n",
      "\n",
      "  df['HDI for year'].fillna(imputed_value,inplace=True)\n",
      "C:\\Users\\awans\\AppData\\Local\\Temp\\ipykernel_11152\\3902340664.py:2: FutureWarning: A value is trying to be set on a copy of a DataFrame or Series through chained assignment using an inplace method.\n",
      "The behavior will change in pandas 3.0. This inplace method will never work because the intermediate object on which we are setting values always behaves as a copy.\n",
      "\n",
      "For example, when doing 'df[col].method(value, inplace=True)', try using 'df.method({col: value}, inplace=True)' or df[col] = df[col].method(value) instead, to perform the operation inplace on the original object.\n",
      "\n",
      "\n",
      "  df['suicides_no'].fillna(imputed_suicides,inplace=True)\n"
     ]
    }
   ],
   "source": [
    "df['HDI for year'].fillna(imputed_value,inplace=True)\n",
    "df['suicides_no'].fillna(imputed_suicides,inplace=True)"
   ]
  },
  {
   "cell_type": "code",
   "execution_count": 85,
   "metadata": {},
   "outputs": [
    {
     "data": {
      "text/plain": [
       "country               0\n",
       "year                  0\n",
       "sex                   0\n",
       "age                   0\n",
       "suicides_no           0\n",
       "population            0\n",
       "suicides/100k pop     0\n",
       "HDI for year          0\n",
       " gdp_for_year ($)     0\n",
       "gdp_per_capita ($)    0\n",
       "generation            0\n",
       "dtype: int64"
      ]
     },
     "execution_count": 85,
     "metadata": {},
     "output_type": "execute_result"
    }
   ],
   "source": [
    "df.isnull().sum()"
   ]
  },
  {
   "cell_type": "markdown",
   "metadata": {},
   "source": [
    "#### **SAVING CLEANED DATA TO A CSV FILE**"
   ]
  },
  {
   "cell_type": "code",
   "execution_count": 86,
   "metadata": {},
   "outputs": [],
   "source": [
    "df.to_csv('cleaned suicide 1985-2021.csv')"
   ]
  }
 ],
 "metadata": {
  "kernelspec": {
   "display_name": "Python 3",
   "language": "python",
   "name": "python3"
  },
  "language_info": {
   "codemirror_mode": {
    "name": "ipython",
    "version": 3
   },
   "file_extension": ".py",
   "mimetype": "text/x-python",
   "name": "python",
   "nbconvert_exporter": "python",
   "pygments_lexer": "ipython3",
   "version": "3.12.2"
  }
 },
 "nbformat": 4,
 "nbformat_minor": 2
}
